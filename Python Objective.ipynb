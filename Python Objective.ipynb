{
 "cells": [
  {
   "cell_type": "markdown",
   "metadata": {},
   "source": [
    "Q1. How can we create an iterator object from a list? "
   ]
  },
  {
   "cell_type": "markdown",
   "metadata": {},
   "source": [
    "b) By using a for a loop. "
   ]
  },
  {
   "cell_type": "markdown",
   "metadata": {},
   "source": [
    "Q2. If the function contains at least of one “yield” statement, then it   becomes ______ "
   ]
  },
  {
   "cell_type": "markdown",
   "metadata": {},
   "source": [
    "b) a generator function "
   ]
  },
  {
   "cell_type": "markdown",
   "metadata": {},
   "source": [
    "Q3. What is the output of the code? "
   ]
  },
  {
   "cell_type": "markdown",
   "metadata": {},
   "source": [
    "b) 1 9 "
   ]
  },
  {
   "cell_type": "markdown",
   "metadata": {},
   "source": [
    "Q4. What are the criteria that must be met to create closure in Python? "
   ]
  },
  {
   "cell_type": "markdown",
   "metadata": {},
   "source": [
    "d) All of the above. "
   ]
  },
  {
   "cell_type": "markdown",
   "metadata": {},
   "source": [
    "Q5. What is the output of the code? "
   ]
  },
  {
   "cell_type": "markdown",
   "metadata": {},
   "source": [
    "d) 50 "
   ]
  },
  {
   "cell_type": "markdown",
   "metadata": {},
   "source": [
    "Q6. What is the output of the code? \n",
    " "
   ]
  },
  {
   "cell_type": "markdown",
   "metadata": {},
   "source": [
    "c) I got decorated     I am ordinary "
   ]
  },
  {
   "cell_type": "markdown",
   "metadata": {},
   "source": [
    "Q7: What is the more pythonic way to use getters and setters? "
   ]
  },
  {
   "cell_type": "markdown",
   "metadata": {},
   "source": [
    "d) @property "
   ]
  },
  {
   "cell_type": "markdown",
   "metadata": {},
   "source": [
    "Q8. In Python, there is a built-in function property() that returns a property object. The property object has which of the methods? "
   ]
  },
  {
   "cell_type": "markdown",
   "metadata": {},
   "source": [
    "b) getter(), setter() and delete() "
   ]
  },
  {
   "cell_type": "markdown",
   "metadata": {},
   "source": [
    "Q9. Which of the following statement is true? "
   ]
  },
  {
   "cell_type": "markdown",
   "metadata": {},
   "source": [
    "b) Decorators don’t work with functions that take parameters. "
   ]
  },
  {
   "cell_type": "markdown",
   "metadata": {},
   "source": [
    "Q10. For the following codes, which of the following statements is true? "
   ]
  },
  {
   "cell_type": "markdown",
   "metadata": {},
   "source": [
    "b) Both printHello() and the reference to the same object. "
   ]
  },
  {
   "cell_type": "markdown",
   "metadata": {},
   "source": [
    "Q11. What is the output of the program? "
   ]
  },
  {
   "cell_type": "markdown",
   "metadata": {},
   "source": [
    "c) a = 2 "
   ]
  },
  {
   "cell_type": "markdown",
   "metadata": {},
   "source": [
    "Q12. Which of the following statements is true? "
   ]
  },
  {
   "cell_type": "markdown",
   "metadata": {},
   "source": [
    "a) A class is a blueprint for the object. "
   ]
  },
  {
   "cell_type": "markdown",
   "metadata": {},
   "source": [
    "Q13. What is the output of the code? "
   ]
  },
  {
   "cell_type": "markdown",
   "metadata": {},
   "source": [
    "c) Java "
   ]
  },
  {
   "cell_type": "markdown",
   "metadata": {},
   "source": [
    "Q14. What is the function of the __init__() function in Python? "
   ]
  },
  {
   "cell_type": "markdown",
   "metadata": {},
   "source": [
    "b) This function is called, when the new object is instantiated "
   ]
  },
  {
   "cell_type": "markdown",
   "metadata": {},
   "source": [
    "Q15. What is the output of the code? \n",
    " \n",
    "1. class Point: 2.     def __init__(self, x = 0, y = 0): 3.       self.x = x+1 4.       self.y = y+1 5.        6. p1 = Point() 7. print(p1.x, p1.y) "
   ]
  },
  {
   "cell_type": "markdown",
   "metadata": {},
   "source": [
    "b) 1 1 "
   ]
  },
  {
   "cell_type": "markdown",
   "metadata": {},
   "source": [
    "Q16. Which of the following code used the inheritance feature? "
   ]
  },
  {
   "cell_type": "markdown",
   "metadata": {},
   "source": [
    "1. class Foo: 2.     pass 3. class Hoo(Foo): pass "
   ]
  },
  {
   "cell_type": "markdown",
   "metadata": {},
   "source": [
    "Q17 If you a class is derived from two different classes, it’s called ______"
   ]
  },
  {
   "cell_type": "markdown",
   "metadata": {},
   "source": [
    "b) Multiple Inheritance "
   ]
  },
  {
   "cell_type": "markdown",
   "metadata": {},
   "source": [
    "Q18. Which of the following statements is true?"
   ]
  },
  {
   "cell_type": "markdown",
   "metadata": {},
   "source": [
    "d) All of the above."
   ]
  },
  {
   "cell_type": "markdown",
   "metadata": {},
   "source": [
    "Q19. What is the output of the code? 1. class Point: 2.    3.     def __init__(self, x = 0, y = 0): 4.       self.x = x 5.       self.y = y 6.    7.     def __sub__(self, other): 8.         x = self.x + other.x 9.         y = self.y + other.y 10.         return Point(x,y) 11.          12. p1 = Point(3, 4) 13. p2 = Point(1, 2) 14. result = p1-p2 15. print(result.x, result.y)"
   ]
  },
  {
   "cell_type": "markdown",
   "metadata": {},
   "source": [
    "b) 4 6"
   ]
  },
  {
   "cell_type": "markdown",
   "metadata": {},
   "source": [
    "Q20. Opening a file in ‘a’ mode"
   ]
  },
  {
   "cell_type": "markdown",
   "metadata": {},
   "source": [
    "c) opens the file for appending, at the end of file "
   ]
  },
  {
   "cell_type": "markdown",
   "metadata": {},
   "source": [
    "Q21. What does the following code do?            f = open(\"test.txt\") "
   ]
  },
  {
   "cell_type": "markdown",
   "metadata": {},
   "source": [
    "b) Opens test.txt file for reading only"
   ]
  },
  {
   "cell_type": "markdown",
   "metadata": {},
   "source": [
    "Q22. Which of the codes closes files automatically if an exception  \n",
    " occurs?"
   ]
  },
  {
   "cell_type": "markdown",
   "metadata": {},
   "source": [
    "d) Both of the above "
   ]
  },
  {
   "cell_type": "markdown",
   "metadata": {},
   "source": [
    "Q23. For the following code, 1. f = open('test.txt', 'r', encoding = 'utf-8') 2. f.read() "
   ]
  },
  {
   "cell_type": "markdown",
   "metadata": {},
   "source": [
    "d) All of the above. "
   ]
  },
  {
   "cell_type": "markdown",
   "metadata": {},
   "source": [
    "Q24. What does the following code do? os.listdir()"
   ]
  },
  {
   "cell_type": "markdown",
   "metadata": {},
   "source": [
    "c) Prints all the directories and files inside the given directory "
   ]
  },
  {
   "cell_type": "markdown",
   "metadata": {},
   "source": [
    "Q25. Which of the following is correct?"
   ]
  },
  {
   "cell_type": "markdown",
   "metadata": {},
   "source": [
    "d) All of the above."
   ]
  },
  {
   "cell_type": "markdown",
   "metadata": {},
   "source": [
    "Q26. What will happen if we try to open the file that doesn’t exist? "
   ]
  },
  {
   "cell_type": "markdown",
   "metadata": {},
   "source": [
    "c) An exception is raised. "
   ]
  },
  {
   "cell_type": "markdown",
   "metadata": {},
   "source": [
    "Q27. What is the output of the code? \n",
    " \n",
    "1. number = 5.0 2. try: 3.     r = 10/number 4.     print(r) 5. except: 6.     print(\"Oops! Error occurred.\")"
   ]
  },
  {
   "cell_type": "markdown",
   "metadata": {},
   "source": [
    "b) 2.0 "
   ]
  },
  {
   "cell_type": "markdown",
   "metadata": {},
   "source": [
    "Q28. What does the following code do?\n",
    "\n",
    "1. try: 2.   # code that can raise an error 3.    pass 4.    5. except (TypeError, ZeroDivisionError): 6.   print(\"Two\") "
   ]
  },
  {
   "cell_type": "markdown",
   "metadata": {},
   "source": [
    "c) Prints Two if the TypeError or ZeroDivisionError exception occurs. "
   ]
  },
  {
   "cell_type": "markdown",
   "metadata": {},
   "source": [
    "Q29. Which of the following statement is true? "
   ]
  },
  {
   "cell_type": "markdown",
   "metadata": {},
   "source": [
    "b) You can create the user-defined exception by deriving a class from Exception class."
   ]
  },
  {
   "cell_type": "markdown",
   "metadata": {},
   "source": [
    "Q30. Which of the following statement is true? "
   ]
  },
  {
   "cell_type": "markdown",
   "metadata": {},
   "source": [
    "d) All of the above"
   ]
  },
  {
   "cell_type": "markdown",
   "metadata": {},
   "source": [
    "Q31. What is the output of the code? 1. def printLine(text): 2.   print(text, 'is awesome.') 3.  4. printLine('Python') "
   ]
  },
  {
   "cell_type": "markdown",
   "metadata": {},
   "source": [
    "b) Python is awesome"
   ]
  },
  {
   "cell_type": "markdown",
   "metadata": {},
   "source": [
    "Q32. If the return statement is not used inside the function, the function will return: "
   ]
  },
  {
   "cell_type": "markdown",
   "metadata": {},
   "source": [
    "b) None Object"
   ]
  },
  {
   "cell_type": "markdown",
   "metadata": {},
   "source": [
    "Q33. What is the output of the code? \n",
    " \n",
    "1. def greetPerson(*name): 2.   print('Hello', name) 3.  4. greetPerson('Frodo', 'Sauron') "
   ]
  },
  {
   "cell_type": "markdown",
   "metadata": {},
   "source": [
    "b) Hello ('Frodo', 'Sauron')"
   ]
  },
  {
   "cell_type": "markdown",
   "metadata": {},
   "source": [
    "Q34. What is a recursive function? "
   ]
  },
  {
   "cell_type": "markdown",
   "metadata": {},
   "source": [
    "b) A function that calls itself. "
   ]
  },
  {
   "cell_type": "markdown",
   "metadata": {},
   "source": [
    "Q35. What is the output of the program? \n",
    " \n",
    "1. result = lambda x: x * x 2. print(result(5)) "
   ]
  },
  {
   "cell_type": "markdown",
   "metadata": {},
   "source": [
    "c) 25"
   ]
  },
  {
   "cell_type": "markdown",
   "metadata": {},
   "source": [
    "Q36. What is the output of the program? \n",
    " \n",
    "1. def Foo(x): 2.   if (x==1): 3.     return 1 4.   else: 5.     return x+Foo(x-1) 6.  7. print(Foo(4)) "
   ]
  },
  {
   "cell_type": "markdown",
   "metadata": {},
   "source": [
    "a) 10"
   ]
  },
  {
   "cell_type": "markdown",
   "metadata": {},
   "source": [
    "Q37. Suppose you need to print pi constant defined in the math module. Which of the following code can do this task? \n",
    " \n",
    "a) print(math.pi) b) print(pi) c)  1. from math import pi 2. print(pi) d) 1. from math import pi 2. print(math.pi) "
   ]
  },
  {
   "cell_type": "markdown",
   "metadata": {},
   "source": [
    "c)  1. from math import pi 2. print(pi)"
   ]
  },
  {
   "cell_type": "markdown",
   "metadata": {},
   "source": [
    "Q38. Which operator is used in Python to import modules from the packages? \n",
    "Choose one \n",
    "a). operator \n",
    "b) * operator \n",
    "c) -> symbol \n",
    "d) , operator "
   ]
  },
  {
   "cell_type": "markdown",
   "metadata": {},
   "source": [
    "a). operator"
   ]
  },
  {
   "cell_type": "markdown",
   "metadata": {},
   "source": [
    "Q39. What is the output of the code? \n",
    " \n",
    "1. numbers = [1, 3, 6] 2. newNumbers = tuple(map(lambda x: x , numbers)) 3. print(newNumbers) "
   ]
  },
  {
   "cell_type": "markdown",
   "metadata": {},
   "source": [
    "b) (1, 3, 6)"
   ]
  },
  {
   "cell_type": "markdown",
   "metadata": {},
   "source": [
    "Q40. What is the output of the code? \n",
    " \n",
    "1. if None: 2.     print(“Hello”) "
   ]
  },
  {
   "cell_type": "markdown",
   "metadata": {},
   "source": [
    "d) Syntax error "
   ]
  },
  {
   "cell_type": "markdown",
   "metadata": {},
   "source": [
    "Q41. The if-elif-else executes only one block of code among several blocks"
   ]
  },
  {
   "cell_type": "markdown",
   "metadata": {},
   "source": [
    "a) True. "
   ]
  },
  {
   "cell_type": "markdown",
   "metadata": {},
   "source": [
    "Q42. What is the output of the code? \n",
    " \n",
    "1. for i in [1, 0]: 2.   print(i+1) "
   ]
  },
  {
   "cell_type": "markdown",
   "metadata": {},
   "source": [
    "a) 2    \n",
    "   1 "
   ]
  },
  {
   "cell_type": "markdown",
   "metadata": {},
   "source": [
    "Q43. In the Python, for and while loop can have the optional else   statement? "
   ]
  },
  {
   "cell_type": "markdown",
   "metadata": {},
   "source": [
    "c) Both loops can have optional else statement"
   ]
  },
  {
   "cell_type": "markdown",
   "metadata": {},
   "source": [
    "Q44. What is the output of the code? \n",
    " \n",
    "1. i = sum = 0 2. \n",
    " 3. while i <= 4: 4.     sum += i 5.     i = i+1 6. \n",
    " 7. print(sum) "
   ]
  },
  {
   "cell_type": "markdown",
   "metadata": {},
   "source": [
    "b) 10 "
   ]
  },
  {
   "cell_type": "markdown",
   "metadata": {},
   "source": [
    "Q45. What is the output of the code? \n",
    " \n",
    "1. while 4 == 4: 2.     print('4') "
   ]
  },
  {
   "cell_type": "markdown",
   "metadata": {},
   "source": [
    "c) 4 is printed infinitely until the program closes"
   ]
  },
  {
   "cell_type": "markdown",
   "metadata": {},
   "source": [
    "Q46. Is it better to use the for loop instead of while if we are iterating   through a sequence? "
   ]
  },
  {
   "cell_type": "markdown",
   "metadata": {},
   "source": [
    "b) Yes, for loop is more pythonic choice."
   ]
  },
  {
   "cell_type": "markdown",
   "metadata": {},
   "source": [
    "Q47. Which of the following statement is true?"
   ]
  },
  {
   "cell_type": "markdown",
   "metadata": {},
   "source": [
    "d) All of the above."
   ]
  },
  {
   "cell_type": "markdown",
   "metadata": {},
   "source": [
    "Q48. What is the output of the code? \n",
    "1. for char in 'PYTHON STRING': 2.   if char == ' ': 3.       break 4.  \n",
    "5.   print(char, end='') 6.    7.   if char == 'O': 8.       continue"
   ]
  },
  {
   "cell_type": "markdown",
   "metadata": {},
   "source": [
    "c) PYTHN "
   ]
  },
  {
   "cell_type": "markdown",
   "metadata": {},
   "source": [
    "Q49. Which of the statement is true about the “pass”   statement? "
   ]
  },
  {
   "cell_type": "markdown",
   "metadata": {},
   "source": [
    "d) All of the above."
   ]
  },
  {
   "cell_type": "markdown",
   "metadata": {},
   "source": [
    "Q50. In regards to separated value files such as .csv and .tsv, what is   the delimiter? "
   ]
  },
  {
   "cell_type": "markdown",
   "metadata": {},
   "source": [
    "c) Any character such as the comma (,) or tab (\\t) that is used to separate the column data. "
   ]
  },
  {
   "cell_type": "markdown",
   "metadata": {},
   "source": [
    "Q51. In separated value files such as .csv and .tsv, what does the first   row in the file typically contain? "
   ]
  },
  {
   "cell_type": "markdown",
   "metadata": {},
   "source": [
    "a) The column names of the data."
   ]
  },
  {
   "cell_type": "markdown",
   "metadata": {},
   "source": [
    "Q52. Assume you have a file object my_data, which has properly opened a separated value file that uses the tab character (\\t) as the delimiter. \n",
    "What is the proper way to open the file using the Python CSV module and assign it to the variable csv_reader?"
   ]
  },
  {
   "cell_type": "markdown",
   "metadata": {},
   "source": [
    "b) csv.reader(my_data, delimiter='\\t') "
   ]
  },
  {
   "cell_type": "markdown",
   "metadata": {},
   "source": [
    "Q53. When iterating over an object returned from csv.reader(), what is returned with each iteration? \n",
    "For example, given the following code block that assumes csv_reader is an object returned from csv.reader(), what would be printed to the console with each iteration? \n",
    "for item in csv_reader:     print(item) "
   ]
  },
  {
   "cell_type": "markdown",
   "metadata": {},
   "source": [
    "b) The row data as a list "
   ]
  },
  {
   "cell_type": "markdown",
   "metadata": {},
   "source": [
    "Q54. When writing to a CSV file using the .writerow() method of  \n",
    " the csv.DictWriter object, what must each key in the  \n",
    " input dict represent? Below is an example: \n",
    "with open('test_file.csv', mode='w') as csv_file: \n",
    " \n",
    "    writer = csv.DictWriter(         csv_file,          fieldnames=['first_col', 'second_col']     )     writer.writeheader() \n",
    " \n",
    "    # This input dictionary is what the question is referring     # to and is not necessarily correct as shown.     writer.writerow({'key1':'value1', 'key2':'value2'}) "
   ]
  },
  {
   "cell_type": "markdown",
   "metadata": {},
   "source": [
    "c) Each key must match up to the field names (column names) used to identify the column data"
   ]
  },
  {
   "cell_type": "markdown",
   "metadata": {},
   "source": [
    "Q55. Which is the correct way to open the CSV file hrdata.csv for   reading using the pandas package? Assume that the pandas   package has already been imported."
   ]
  },
  {
   "cell_type": "markdown",
   "metadata": {},
   "source": [
    "c) pandas.read_csv('hrdata.csv')"
   ]
  },
  {
   "cell_type": "markdown",
   "metadata": {},
   "source": [
    "Q56. By default, pandas uses 0-based indices for indexing rows. Which  \n",
    " is the correct way to import the CSV file hrdata.csv  \n",
    " for reading and using the 'Name' column as the index row instead? \n",
    "Below is the contents of hrdata.csv \n",
    "Name,Hire Date,Salary,Sick Days remaining Fred,10/10/10,10000,10 "
   ]
  },
  {
   "cell_type": "markdown",
   "metadata": {},
   "source": [
    "a) pandas.read_csv('hrdata.csv', index_col='Name') "
   ]
  },
  {
   "cell_type": "markdown",
   "metadata": {},
   "source": [
    "Q57. Given the file dog_breeds.txt, which of the following is the correct   way to open the file for reading as a text file? Select all that apply."
   ]
  },
  {
   "cell_type": "markdown",
   "metadata": {},
   "source": [
    "b) open('dog_breeds.txt', 'r') c) open('dog_breeds.txt') e) open('dog_breeds.txt', 'rb') "
   ]
  },
  {
   "cell_type": "markdown",
   "metadata": {},
   "source": [
    "Q58. Given the following directory structure: animals/ │ ├── feline/ │   ├── lions.gif │   └── tigers.gif │ ├── ursine/ │   └── bears.gif │ └── animals.csv Assuming that the cwd is in the root folder where animals reside, what is the full path to the feline folder?"
   ]
  },
  {
   "cell_type": "markdown",
   "metadata": {},
   "source": [
    "animals/feline"
   ]
  },
  {
   "cell_type": "markdown",
   "metadata": {},
   "source": [
    "Q59. Given the file jack_russell.png, which of the following is the correct   way to open the file for reading as a buffered binary file? Select   all that apply. "
   ]
  },
  {
   "cell_type": "markdown",
   "metadata": {},
   "source": [
    "open('jack_russell.png', 'rb') \n",
    "open('jack_russell.png', 'wb')"
   ]
  },
  {
   "cell_type": "markdown",
   "metadata": {},
   "source": [
    "Q60. Using the same directory structure as before: \n",
    " \n",
    "animals/ │ ├── feline/ │   ├── lions.gif │   └── tigers.gif \n",
    " \n",
    "│ ├── ursine/ │   └── bears.gif │ └── animals.csv Assuming that the cwd is in the root folder where Animals reside, what is the full path to the file bears.gif? "
   ]
  },
  {
   "cell_type": "markdown",
   "metadata": {},
   "source": [
    "animals/ursine/bears.gif"
   ]
  },
  {
   "cell_type": "markdown",
   "metadata": {},
   "source": [
    "Q61. Whenever possible, what is the recommended way to ensure that   a file object is properly closed after usage?"
   ]
  },
  {
   "cell_type": "markdown",
   "metadata": {},
   "source": [
    "c) By using the try/finally block"
   ]
  },
  {
   "cell_type": "markdown",
   "metadata": {},
   "source": [
    "Q62. Using the same directory structure as before: \n",
    "animals/ │ ├── feline/  ← cwd │   ├── lions.gif │   └── tigers.gif │ ├── ursine/ │   └── bears.gif │ └── animals.csv Assuming that the cwd is in the feline folder, what is the relative path to the file bears.gif? "
   ]
  },
  {
   "cell_type": "markdown",
   "metadata": {},
   "source": [
    "animals/ursine/bears.gif"
   ]
  },
  {
   "cell_type": "markdown",
   "metadata": {},
   "source": [
    "Q63. When reading a file using the file object, what method is best for   reading the entire file into a single string?"
   ]
  },
  {
   "cell_type": "markdown",
   "metadata": {},
   "source": [
    "c) .readlines() "
   ]
  },
  {
   "cell_type": "markdown",
   "metadata": {},
   "source": [
    "Q64.  The value 1.73 rounded to one decimal place using the “rounding   up” strategy is…"
   ]
  },
  {
   "cell_type": "markdown",
   "metadata": {},
   "source": [
    "b) 1.7"
   ]
  },
  {
   "cell_type": "markdown",
   "metadata": {},
   "source": [
    "Q65. The value -2.961 rounded to two decimal places using the   “rounding down” strategy is… "
   ]
  },
  {
   "cell_type": "markdown",
   "metadata": {},
   "source": [
    "-2.96"
   ]
  },
  {
   "cell_type": "markdown",
   "metadata": {},
   "source": [
    "Q66. When a value is truncated to 3 decimal places, which of the   following is true?"
   ]
  },
  {
   "cell_type": "markdown",
   "metadata": {},
   "source": [
    "b) Positive numbers are rounded down, and negative numbers are rounded up"
   ]
  },
  {
   "cell_type": "markdown",
   "metadata": {},
   "source": [
    "Q67. The value -0.045 rounded to 2 decimal places using the “round half   away from zero” strategy is…"
   ]
  },
  {
   "cell_type": "markdown",
   "metadata": {},
   "source": [
    "a) -0.05"
   ]
  },
  {
   "cell_type": "markdown",
   "metadata": {},
   "source": [
    "Q68. Which rounding strategy does Python’s built-in round() function   use?"
   ]
  },
  {
   "cell_type": "markdown",
   "metadata": {},
   "source": [
    "c) Round half up "
   ]
  },
  {
   "cell_type": "markdown",
   "metadata": {},
   "source": [
    "Q69. The value 4.65 rounded to one decimal place using the “round half   to even” strategy is… "
   ]
  },
  {
   "cell_type": "markdown",
   "metadata": {},
   "source": [
    "a) 4.6 "
   ]
  },
  {
   "cell_type": "markdown",
   "metadata": {},
   "source": [
    "Q70. Which problem arises due to the multiple inheritances, if   hierarchical inheritance is used previously for its base classes? "
   ]
  },
  {
   "cell_type": "markdown",
   "metadata": {},
   "source": [
    "a) Diamond"
   ]
  },
  {
   "cell_type": "markdown",
   "metadata": {},
   "source": [
    "Q71.  How many classes should a program contain to implement the  multiple inheritances? "
   ]
  },
  {
   "cell_type": "markdown",
   "metadata": {},
   "source": [
    "c) At least 3 "
   ]
  },
  {
   "cell_type": "markdown",
   "metadata": {},
   "source": [
    "Q72. If class a inherits class b and class c as “class a: public class b,  public class c {// class body ;}; ”, which class constructor will be  called first?"
   ]
  },
  {
   "cell_type": "markdown",
   "metadata": {},
   "source": [
    "d)  All together. "
   ]
  },
  {
   "cell_type": "markdown",
   "metadata": {},
   "source": [
    "Q73.If all the members of all  base classes are private then,"
   ]
  },
  {
   "cell_type": "markdown",
   "metadata": {},
   "source": [
    "c) Derived class can still access them in the multiple inheritance "
   ]
  },
  {
   "cell_type": "markdown",
   "metadata": {},
   "source": [
    "Q74. Can the derived class be made abstract if multiple inheritance is  used?"
   ]
  },
  {
   "cell_type": "markdown",
   "metadata": {},
   "source": [
    "c) Yes, if all the methods are predefined "
   ]
  },
  {
   "cell_type": "markdown",
   "metadata": {},
   "source": [
    "Q75. Which among the following best defines the multilevel inheritance? "
   ]
  },
  {
   "cell_type": "markdown",
   "metadata": {},
   "source": [
    "d) Class which have more than one parent "
   ]
  },
  {
   "cell_type": "markdown",
   "metadata": {},
   "source": [
    "Q76. If there are 5 classes, E is derived from D, D from C, C from B and  B from A. Which class constructor will be called first if the object of  E or D is created"
   ]
  },
  {
   "cell_type": "markdown",
   "metadata": {},
   "source": [
    "a) A "
   ]
  },
  {
   "cell_type": "markdown",
   "metadata": {},
   "source": [
    "Q77. Which Class is having the highest degree of abstraction in   multilevel inheritance of 5 levels? "
   ]
  },
  {
   "cell_type": "markdown",
   "metadata": {},
   "source": [
    "a) Class at 1st level"
   ]
  },
  {
   "cell_type": "markdown",
   "metadata": {},
   "source": [
    "Q78. Multilevel inheritance allows _________________ in the program. "
   ]
  },
  {
   "cell_type": "markdown",
   "metadata": {},
   "source": [
    "d) As many levels of inheritance as required "
   ]
  },
  {
   "cell_type": "markdown",
   "metadata": {},
   "source": [
    "Q79. If all the classes used parameterized constructors and no default  constructor then, ___________"
   ]
  },
  {
   "cell_type": "markdown",
   "metadata": {},
   "source": [
    "b) Object of lower-level classes must call parent class constructors explicitly"
   ]
  },
  {
   "cell_type": "markdown",
   "metadata": {},
   "source": [
    "Q80. Which is the universal exception handler class? "
   ]
  },
  {
   "cell_type": "markdown",
   "metadata": {},
   "source": [
    "d) Exceptions "
   ]
  },
  {
   "cell_type": "markdown",
   "metadata": {},
   "source": [
    "Q81. What are two exception classes in the hierarchy of java exceptions  class?"
   ]
  },
  {
   "cell_type": "markdown",
   "metadata": {},
   "source": [
    "c) Runtime exceptions and other exceptions "
   ]
  },
  {
   "cell_type": "markdown",
   "metadata": {},
   "source": [
    "Q82.  Which are the two blocks that are used to check error and handle  the error?"
   ]
  },
  {
   "cell_type": "markdown",
   "metadata": {},
   "source": [
    "a) Try and catch"
   ]
  },
  {
   "cell_type": "markdown",
   "metadata": {},
   "source": [
    "Q83. To catch the exceptions ___________________ "
   ]
  },
  {
   "cell_type": "markdown",
   "metadata": {},
   "source": [
    "a) An object must be created to catch the exception"
   ]
  },
  {
   "cell_type": "markdown",
   "metadata": {},
   "source": [
    "Q84. Which class is used to handle the input and output exceptions?"
   ]
  },
  {
   "cell_type": "markdown",
   "metadata": {},
   "source": [
    "c) IOExceptions "
   ]
  },
  {
   "cell_type": "markdown",
   "metadata": {},
   "source": [
    "Q85. Which among the following is true for the class exceptions?"
   ]
  },
  {
   "cell_type": "markdown",
   "metadata": {},
   "source": [
    "d) Both base class and derived class may produce exceptions "
   ]
  },
  {
   "cell_type": "markdown",
   "metadata": {},
   "source": [
    "Q86. If both base and derived class caught the exceptions, _____"
   ]
  },
  {
   "cell_type": "markdown",
   "metadata": {},
   "source": [
    "a) Then catch block of a derived class must be defined before the base class "
   ]
  },
  {
   "cell_type": "markdown",
   "metadata": {},
   "source": [
    "Q87.  The catching of base class the exception _________ in java. "
   ]
  },
  {
   "cell_type": "markdown",
   "metadata": {},
   "source": [
    "b) Before derived class is not allowed by the compiler "
   ]
  },
  {
   "cell_type": "markdown",
   "metadata": {},
   "source": [
    "Q88.  Which of the following handles the undefined class in the  program?"
   ]
  },
  {
   "cell_type": "markdown",
   "metadata": {},
   "source": [
    "d) ClassNotFoundException "
   ]
  },
  {
   "cell_type": "markdown",
   "metadata": {},
   "source": [
    "Q89. Which among the following is true? "
   ]
  },
  {
   "cell_type": "markdown",
   "metadata": {},
   "source": [
    "c) Both the base and derived class catch the blocks are important."
   ]
  },
  {
   "cell_type": "markdown",
   "metadata": {},
   "source": [
    "Q90. Which condition among the following might result in memory  exception?"
   ]
  },
  {
   "cell_type": "markdown",
   "metadata": {},
   "source": [
    "c) Infinite loops "
   ]
  },
  {
   "cell_type": "markdown",
   "metadata": {},
   "source": [
    "Q91. Which among the following is the correct definition for static   member functions? "
   ]
  },
  {
   "cell_type": "markdown",
   "metadata": {},
   "source": [
    "b) Functions made to maintain a single copy of member functions for all the objects "
   ]
  },
  {
   "cell_type": "markdown",
   "metadata": {},
   "source": [
    "Q92. The static member functions __________________ "
   ]
  },
  {
   "cell_type": "markdown",
   "metadata": {},
   "source": [
    "c) Have access to only the static members of a class"
   ]
  },
  {
   "cell_type": "markdown",
   "metadata": {},
   "source": [
    "Q93. Which is the correct syntax to access the static member functions   with a class name? "
   ]
  },
  {
   "cell_type": "markdown",
   "metadata": {},
   "source": [
    "d) className :: functionName;"
   ]
  },
  {
   "cell_type": "markdown",
   "metadata": {},
   "source": [
    "Q94. The static members are ______________________ "
   ]
  },
  {
   "cell_type": "markdown",
   "metadata": {},
   "source": [
    "d)  Created and initialised, only once "
   ]
  },
  {
   "cell_type": "markdown",
   "metadata": {},
   "source": [
    "Q95. Which among the following is true? "
   ]
  },
  {
   "cell_type": "markdown",
   "metadata": {},
   "source": [
    "b) Static member functions can’t be overloaded. "
   ]
  },
  {
   "cell_type": "markdown",
   "metadata": {},
   "source": [
    "Q96. The static member functions _______________ "
   ]
  },
  {
   "cell_type": "markdown",
   "metadata": {},
   "source": [
    "d) Can’t be declared const, volatile, or constant volatile. "
   ]
  },
  {
   "cell_type": "markdown",
   "metadata": {},
   "source": [
    "Q97. Which among the following can’t be used to access the members in anyway? \n",
    " "
   ]
  },
  {
   "cell_type": "markdown",
   "metadata": {},
   "source": [
    "c) Single colon. "
   ]
  },
  {
   "cell_type": "markdown",
   "metadata": {},
   "source": [
    "Q98. If static data member are made inline, ______________ "
   ]
  },
  {
   "cell_type": "markdown",
   "metadata": {},
   "source": [
    "c) Those can be initialised within the class. "
   ]
  },
  {
   "cell_type": "markdown",
   "metadata": {},
   "source": [
    "Q99. The static data member _________________ "
   ]
  },
  {
   "cell_type": "markdown",
   "metadata": {},
   "source": [
    "b) Can’t be mutable. "
   ]
  },
  {
   "cell_type": "markdown",
   "metadata": {},
   "source": [
    "Q100. We can use the static member functions and static data member __________________. "
   ]
  },
  {
   "cell_type": "markdown",
   "metadata": {},
   "source": [
    "a) Even if a class object is not created "
   ]
  },
  {
   "cell_type": "markdown",
   "metadata": {},
   "source": [
    "Q101. Point out the wrong statement: "
   ]
  },
  {
   "cell_type": "markdown",
   "metadata": {},
   "source": [
    "c)rPy provides lots of scientific routines that work on top of NumPy. "
   ]
  },
  {
   "cell_type": "markdown",
   "metadata": {},
   "source": [
    "Q102.  The ________ function returns its argument with the modified      shape, whereas the ________ method modifies the array itself. "
   ]
  },
  {
   "cell_type": "markdown",
   "metadata": {},
   "source": [
    "a) reshape, resize. "
   ]
  },
  {
   "cell_type": "markdown",
   "metadata": {},
   "source": [
    "Q103. To create sequences of the numbers, NumPy provides a function __________ analogous to range that returns arrays instead of lists. "
   ]
  },
  {
   "cell_type": "markdown",
   "metadata": {},
   "source": [
    "a) arrange. "
   ]
  },
  {
   "cell_type": "markdown",
   "metadata": {},
   "source": [
    "Q104.  Point out the correct statement: "
   ]
  },
  {
   "cell_type": "markdown",
   "metadata": {},
   "source": [
    "d)  All of the Mentioned "
   ]
  },
  {
   "cell_type": "markdown",
   "metadata": {},
   "source": [
    "Q105. Which of the following function stack 1D array as the   columns into the 2D array? \n",
    " \n",
    " "
   ]
  },
  {
   "cell_type": "markdown",
   "metadata": {},
   "source": [
    "b) column_stack. "
   ]
  },
  {
   "cell_type": "markdown",
   "metadata": {},
   "source": [
    "Q106.  ndarray is also known as an alias array. "
   ]
  },
  {
   "cell_type": "markdown",
   "metadata": {},
   "source": [
    "a) True "
   ]
  },
  {
   "cell_type": "markdown",
   "metadata": {},
   "source": [
    "Q107. Which of the following method creates the new array object that  looks at the same data? "
   ]
  },
  {
   "cell_type": "markdown",
   "metadata": {},
   "source": [
    "a)  view. "
   ]
  },
  {
   "cell_type": "markdown",
   "metadata": {},
   "source": [
    "Q108. Which of the functions can be used to combine the   different vectors to obtain the result for each n-uplet? "
   ]
  },
  {
   "cell_type": "markdown",
   "metadata": {},
   "source": [
    "b) ix_. "
   ]
  },
  {
   "cell_type": "markdown",
   "metadata": {},
   "source": [
    "Q109. ndarray.dataitemSize is the buffer containing actual   elements  of an array. "
   ]
  },
  {
   "cell_type": "markdown",
   "metadata": {},
   "source": [
    "a) True "
   ]
  },
  {
   "cell_type": "markdown",
   "metadata": {},
   "source": [
    "Q110. Which of the following is in the NumPy library? "
   ]
  },
  {
   "cell_type": "markdown",
   "metadata": {},
   "source": [
    "d) all of the Mentioned "
   ]
  },
  {
   "cell_type": "markdown",
   "metadata": {},
   "source": [
    "Q111. Which of the following sets the size of the buffer used in ufuncs ? "
   ]
  },
  {
   "cell_type": "markdown",
   "metadata": {},
   "source": [
    "c) setbufsize(size) "
   ]
  },
  {
   "cell_type": "markdown",
   "metadata": {},
   "source": [
    "Q112. Point out the wrong statement: "
   ]
  },
  {
   "cell_type": "markdown",
   "metadata": {},
   "source": [
    "b) In Numpy, universal functions are the instances of numpy.ufunction class "
   ]
  },
  {
   "cell_type": "markdown",
   "metadata": {},
   "source": [
    "Q113. Which of the following attribute should be used while checking the  type combination input and output? "
   ]
  },
  {
   "cell_type": "markdown",
   "metadata": {},
   "source": [
    "a) .types "
   ]
  },
  {
   "cell_type": "markdown",
   "metadata": {},
   "source": [
    "Q114. Which of the following returns an array of “ones” with the same  shape and type as a given array? \n",
    " "
   ]
  },
  {
   "cell_type": "markdown",
   "metadata": {},
   "source": [
    "b) ones_like "
   ]
  },
  {
   "cell_type": "markdown",
   "metadata": {},
   "source": [
    "Q115. Point out the wrong statement: "
   ]
  },
  {
   "cell_type": "markdown",
   "metadata": {},
   "source": [
    "c) The output of the ufunc is necessarily a ndarray, if all the input arguments are ndarrays "
   ]
  },
  {
   "cell_type": "markdown",
   "metadata": {},
   "source": [
    "Q116. Which of the following set of a floating-point error callback   function or a log object?   "
   ]
  },
  {
   "cell_type": "markdown",
   "metadata": {},
   "source": [
    "b) settercall. "
   ]
  },
  {
   "cell_type": "markdown",
   "metadata": {},
   "source": [
    "Q117. Some ufuncs can take output arguments. \n",
    " \n"
   ]
  },
  {
   "cell_type": "markdown",
   "metadata": {},
   "source": [
    "b) False "
   ]
  },
  {
   "cell_type": "markdown",
   "metadata": {},
   "source": [
    "Q118. ___________ decompose the elements of x into the   mantissa and the two’s exponent. \n",
    " "
   ]
  },
  {
   "cell_type": "markdown",
   "metadata": {},
   "source": [
    "c) frexp "
   ]
  },
  {
   "cell_type": "markdown",
   "metadata": {},
   "source": [
    "Q119. Which of the following function take the only a single value as input? \n",
    " "
   ]
  },
  {
   "cell_type": "markdown",
   "metadata": {},
   "source": [
    "a) iscomplex. "
   ]
  },
  {
   "cell_type": "markdown",
   "metadata": {},
   "source": [
    "Q120. The array object returned by the _array_prepare_ is passed to      ufunc for computation. \n",
    " "
   ]
  },
  {
   "cell_type": "markdown",
   "metadata": {},
   "source": [
    "a) True "
   ]
  },
  {
   "cell_type": "markdown",
   "metadata": {},
   "source": [
    "Q121. All pandas data structures are ___mutable but not always  _______-mutable"
   ]
  },
  {
   "cell_type": "markdown",
   "metadata": {},
   "source": [
    "c) value,size. "
   ]
  },
  {
   "cell_type": "markdown",
   "metadata": {},
   "source": [
    "Q122.  Point out the correct statement:"
   ]
  },
  {
   "cell_type": "markdown",
   "metadata": {},
   "source": [
    "d) All of the above mentioned. "
   ]
  },
  {
   "cell_type": "markdown",
   "metadata": {},
   "source": [
    "Q123. Which of the following statement will import the pandas?"
   ]
  },
  {
   "cell_type": "markdown",
   "metadata": {},
   "source": [
    "a) import pandas as pd "
   ]
  },
  {
   "cell_type": "markdown",
   "metadata": {},
   "source": [
    "Q124. Which of the following object did we get after reading the CSV file? "
   ]
  },
  {
   "cell_type": "markdown",
   "metadata": {},
   "source": [
    "a) DataFrame. "
   ]
  },
  {
   "cell_type": "markdown",
   "metadata": {},
   "source": [
    "Q125. Point out the wrong statement: "
   ]
  },
  {
   "cell_type": "markdown",
   "metadata": {},
   "source": [
    "c) The panel is generally 2D labelled, also a size-mutable array."
   ]
  },
  {
   "cell_type": "markdown",
   "metadata": {},
   "source": [
    "a)  numpy. "
   ]
  },
  {
   "cell_type": "markdown",
   "metadata": {},
   "source": [
    "Q127. Panel is a container for the Series, and DataFrame is a   container for DataFrame objects. "
   ]
  },
  {
   "cell_type": "markdown",
   "metadata": {},
   "source": [
    "b) False"
   ]
  },
  {
   "cell_type": "markdown",
   "metadata": {},
   "source": [
    "Q128. Which of the following is the prominent python “statistics and  econometrics library”? "
   ]
  },
  {
   "cell_type": "markdown",
   "metadata": {},
   "source": [
    "c) Statsmodels."
   ]
  },
  {
   "cell_type": "markdown",
   "metadata": {},
   "source": [
    "Q129. Which of the following is the foundational exploratory visualisation  package for the R language in the pandas ecosystem? "
   ]
  },
  {
   "cell_type": "markdown",
   "metadata": {},
   "source": [
    "a) yhat. "
   ]
  },
  {
   "cell_type": "markdown",
   "metadata": {},
   "source": [
    "Q130. Pandas consist of static and the moving window linear and panel  regression. "
   ]
  },
  {
   "cell_type": "markdown",
   "metadata": {},
   "source": [
    "a) True"
   ]
  },
  {
   "cell_type": "markdown",
   "metadata": {},
   "source": [
    "Q131. Quandl API for Python wraps the __ REST API to   returns the pandas DataFrames with time series indexes"
   ]
  },
  {
   "cell_type": "markdown",
   "metadata": {},
   "source": [
    "a) Quandl. "
   ]
  },
  {
   "cell_type": "markdown",
   "metadata": {},
   "source": [
    "Q132. Point out the correct statement:"
   ]
  },
  {
   "cell_type": "markdown",
   "metadata": {},
   "source": [
    "a) Statsmodels provides powerful statistics, econometrics, analysis and the modelling functionality which is out of pandas’ scope "
   ]
  },
  {
   "cell_type": "markdown",
   "metadata": {},
   "source": [
    "Q133.Which of the following library is used to retrieve and to acquire   statistical data and metadata disseminated in SDMX 2.1? "
   ]
  },
  {
   "cell_type": "markdown",
   "metadata": {},
   "source": [
    "a) pandaSDMX "
   ]
  },
  {
   "cell_type": "markdown",
   "metadata": {},
   "source": [
    "Q134. Which of the following provides the standard API for doing   computations with MongoDB? "
   ]
  },
  {
   "cell_type": "markdown",
   "metadata": {},
   "source": [
    "a) Blaze. "
   ]
  },
  {
   "cell_type": "markdown",
   "metadata": {},
   "source": [
    "Q135. Point out the wrong statement: "
   ]
  },
  {
   "cell_type": "markdown",
   "metadata": {},
   "source": [
    "c) Spyder is a cross-platform Qt-based open-source R IDE "
   ]
  },
  {
   "cell_type": "markdown",
   "metadata": {},
   "source": [
    "Q136. Which of the following makes use of the pandas and returns   data in a Series or DataFrame? "
   ]
  },
  {
   "cell_type": "markdown",
   "metadata": {},
   "source": [
    "b) freedapi. "
   ]
  },
  {
   "cell_type": "markdown",
   "metadata": {},
   "source": [
    "Q137. Spyder can introspect and display Pandas DataFrames. "
   ]
  },
  {
   "cell_type": "markdown",
   "metadata": {},
   "source": [
    "b) False "
   ]
  },
  {
   "cell_type": "markdown",
   "metadata": {},
   "source": [
    "Q138. Which of the following is used for machine learning in the python? "
   ]
  },
  {
   "cell_type": "markdown",
   "metadata": {},
   "source": [
    "a) sci-kit-learn."
   ]
  },
  {
   "cell_type": "markdown",
   "metadata": {},
   "source": [
    "Q139. The ________ project builds on top of the pandas and matplotlib   to provide easy plotting of data."
   ]
  },
  {
   "cell_type": "markdown",
   "metadata": {},
   "source": [
    "b) Seaborn."
   ]
  },
  {
   "cell_type": "markdown",
   "metadata": {},
   "source": [
    "Q140 x-ray brings the labelled data power of pandas to the physical  sciences."
   ]
  },
  {
   "cell_type": "markdown",
   "metadata": {},
   "source": [
    "a) True"
   ]
  },
  {
   "cell_type": "markdown",
   "metadata": {},
   "source": [
    "Q141. Which of the following is the base layer of all of the sparse   has it indexed data structures?"
   ]
  },
  {
   "cell_type": "markdown",
   "metadata": {},
   "source": [
    "b) SparseArray."
   ]
  },
  {
   "cell_type": "markdown",
   "metadata": {},
   "source": [
    "Q142.  Point out the correct statement."
   ]
  },
  {
   "cell_type": "markdown",
   "metadata": {},
   "source": [
    "d) All of the mentioned. "
   ]
  },
  {
   "cell_type": "markdown",
   "metadata": {},
   "source": [
    "Q143. Which of the following is not an indexed object? "
   ]
  },
  {
   "cell_type": "markdown",
   "metadata": {},
   "source": [
    "d) None of the mentioned. "
   ]
  },
  {
   "cell_type": "markdown",
   "metadata": {},
   "source": [
    "Q144. Which of the following list like data structure is used for managing  the dynamic collection of SparseArrays? "
   ]
  },
  {
   "cell_type": "markdown",
   "metadata": {},
   "source": [
    "a) SparseList."
   ]
  },
  {
   "cell_type": "markdown",
   "metadata": {},
   "source": [
    "Q145.  Point out the wrong statement."
   ]
  },
  {
   "cell_type": "markdown",
   "metadata": {},
   "source": [
    "a) to_array. append can accept scalar values or any 2-dimensional sequence"
   ]
  },
  {
   "cell_type": "markdown",
   "metadata": {},
   "source": [
    "Q146. Which of the following method used for transforming the   Sparse-series index by the MultiIndex to a   scipy.sparse.coo_matrix?"
   ]
  },
  {
   "cell_type": "markdown",
   "metadata": {},
   "source": [
    "a) SparseSeries.to_coo(). "
   ]
  },
  {
   "cell_type": "markdown",
   "metadata": {},
   "source": [
    "Q147. The integer format tracks only the locations and the sizes of   blocks of data. "
   ]
  },
  {
   "cell_type": "markdown",
   "metadata": {},
   "source": [
    "b) False"
   ]
  },
  {
   "cell_type": "markdown",
   "metadata": {},
   "source": [
    "Q148. Which of the following is used for the testing for membership in   the list of column names?"
   ]
  },
  {
   "cell_type": "markdown",
   "metadata": {},
   "source": [
    "a) in"
   ]
  },
  {
   "cell_type": "markdown",
   "metadata": {},
   "source": [
    "Q149. Which of the following indexing capabilities is used as the concise  means of selecting data from a pandas object?"
   ]
  },
  {
   "cell_type": "markdown",
   "metadata": {},
   "source": [
    "b) ix"
   ]
  },
  {
   "cell_type": "markdown",
   "metadata": {},
   "source": [
    "Q150. Pandas follow the NumPy convention of raising an error when  you try to convert something to a bool."
   ]
  },
  {
   "cell_type": "markdown",
   "metadata": {},
   "source": [
    "a) True"
   ]
  },
  {
   "cell_type": "code",
   "execution_count": null,
   "metadata": {},
   "outputs": [],
   "source": []
  }
 ],
 "metadata": {
  "kernelspec": {
   "display_name": "Python 3",
   "language": "python",
   "name": "python3"
  },
  "language_info": {
   "codemirror_mode": {
    "name": "ipython",
    "version": 3
   },
   "file_extension": ".py",
   "mimetype": "text/x-python",
   "name": "python",
   "nbconvert_exporter": "python",
   "pygments_lexer": "ipython3",
   "version": "3.7.3"
  }
 },
 "nbformat": 4,
 "nbformat_minor": 2
}
