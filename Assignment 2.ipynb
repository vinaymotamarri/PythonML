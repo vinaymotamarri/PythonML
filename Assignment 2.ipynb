{
 "cells": [
  {
   "cell_type": "markdown",
   "metadata": {},
   "source": [
    "Task 1 : 1.1"
   ]
  },
  {
   "cell_type": "code",
   "execution_count": 11,
   "metadata": {},
   "outputs": [],
   "source": [
    "lst1 = [1,2,3,4]\n",
    "def myreduce(lst):\n",
    "    totalsum = 0\n",
    "    for i in lst:\n",
    "        totalsum = totalsum +i\n",
    "    return totalsum"
   ]
  },
  {
   "cell_type": "code",
   "execution_count": 12,
   "metadata": {},
   "outputs": [
    {
     "data": {
      "text/plain": [
       "10"
      ]
     },
     "execution_count": 12,
     "metadata": {},
     "output_type": "execute_result"
    }
   ],
   "source": [
    "myreduce(lst1)"
   ]
  },
  {
   "cell_type": "markdown",
   "metadata": {},
   "source": [
    "Task 1: 1.2"
   ]
  },
  {
   "cell_type": "code",
   "execution_count": 18,
   "metadata": {},
   "outputs": [],
   "source": [
    "def myfilter(lst):\n",
    "    output = []\n",
    "    for i in lst:\n",
    "        if i%2==0:\n",
    "            output.append(i)\n",
    "    print(output)\n",
    "            "
   ]
  },
  {
   "cell_type": "code",
   "execution_count": 19,
   "metadata": {},
   "outputs": [
    {
     "name": "stdout",
     "output_type": "stream",
     "text": [
      "[2, 4]\n"
     ]
    }
   ],
   "source": [
    "myfilter(lst1)"
   ]
  },
  {
   "cell_type": "markdown",
   "metadata": {},
   "source": [
    "Task 1 : 2"
   ]
  },
  {
   "cell_type": "code",
   "execution_count": 19,
   "metadata": {},
   "outputs": [
    {
     "name": "stdout",
     "output_type": "stream",
     "text": [
      "ACADGILD =>['A', 'C', 'A', 'D', 'G', 'I', 'L', 'D']\n",
      "['x','y','z'] =>['x', 'xx', 'xxx', 'xxxx', 'y', 'yy', 'yyy', 'yyyy', 'z', 'zz', 'zzz', 'zzzz']\n",
      "['x','y','z'] =>['x', 'y', 'z', 'xx', 'yy', 'zz', 'xxx', 'yyy', 'zzz', 'xxxx', 'yyyy', 'zzzz']\n",
      "[[2], [3], [4], [3], [4], [5], [4], [5], [6]]\n",
      "[[2, 3, 4, 5], [3, 4, 5, 6], [4, 5, 6, 7], [5, 6, 7, 8]]\n",
      "[(1, 1), (2, 1), (3, 1), (1, 2), (2, 2), (3, 2), (1, 3), (2, 3), (3, 3)]\n"
     ]
    }
   ],
   "source": [
    "####### 1.2.1 ######\n",
    "list_1 = \"ACADGILD\"\n",
    "list_1_OP = [letter for letter in list_1]\n",
    "print(\"ACADGILD =>\" + str(list_1_OP))\n",
    "\n",
    "####### 1.2.2 ######\n",
    "list_2 = ['x','y','z']\n",
    "list_2_OP = [item*num for item in list_2 for num in range(1,5)]\n",
    "print(\"['x','y','z'] =>\" + str(list_2_OP))\n",
    "\n",
    "####### 1.2.3 ######\n",
    "list_2 = ['x','y','z']\n",
    "list_3_OP = [item*num for num in range(1,5) for item in list_2]\n",
    "print(\"['x','y','z'] =>\" + str(list_3_OP))\n",
    "\n",
    "####### 1.2.4 ######\n",
    "list_4 = [2,3,4]\n",
    "list_4_OP = [[item+num] for item in list_4 for num in range(0,3)]\n",
    "print(list_4_OP)\n",
    "\n",
    "####### 1.2.5 ######\n",
    "list_5 = [2,3,4,5]\n",
    "list_5_OP = [[item+num for item in list_5] for num in range(0,4)]\n",
    "print(list_5_OP)\n",
    "\n",
    "####### 1.2.6 ######\n",
    "input_list=[1,2,3]\n",
    "result = [ (b,a) for a in input_list for b in input_list]\n",
    "print(result)"
   ]
  },
  {
   "cell_type": "markdown",
   "metadata": {},
   "source": [
    "Task 1 : 3"
   ]
  },
  {
   "cell_type": "code",
   "execution_count": 32,
   "metadata": {},
   "outputs": [
    {
     "data": {
      "text/plain": [
       "'goodboy'"
      ]
     },
     "execution_count": 32,
     "metadata": {},
     "output_type": "execute_result"
    }
   ],
   "source": [
    "from functools import reduce\n",
    "def longest_word(lst1):\n",
    "    return reduce(lambda a,b: a if len(a) > len(b) else b, lst1)\n",
    "\n",
    "lstname = [\"vinay\",\"kumar\",\"goodboy\"]\n",
    "longest_word(lstname)"
   ]
  },
  {
   "cell_type": "markdown",
   "metadata": {},
   "source": [
    "Task 2 : 1.1"
   ]
  },
  {
   "cell_type": "code",
   "execution_count": 55,
   "metadata": {},
   "outputs": [
    {
     "name": "stdout",
     "output_type": "stream",
     "text": [
      "6.0\n"
     ]
    }
   ],
   "source": [
    "class tri_sides:\n",
    "    def __init__(self,a,b,c):        \n",
    "        self.a1 = a\n",
    "        self.b1 = b\n",
    "        self.c1 = c\n",
    "    \n",
    "class Tri_Area(tri_sides):   \n",
    "    def getarea(self):\n",
    "        a,b,c = self.a1,self.b1,self.c1\n",
    "        s=(a+b+c)/2\n",
    "        return (s*(s-a)*(s-b)*(s-c)) ** 0.5\n",
    "    \n",
    "Tri_Area1 = Tri_Area(3,4,5)\n",
    "print(Tri_Area1.getarea())"
   ]
  },
  {
   "cell_type": "markdown",
   "metadata": {},
   "source": [
    "Task 2 : 1.2"
   ]
  },
  {
   "cell_type": "code",
   "execution_count": 38,
   "metadata": {},
   "outputs": [
    {
     "name": "stdout",
     "output_type": "stream",
     "text": [
      "['quick', 'brown', 'jumps', 'over', 'lazy']\n"
     ]
    }
   ],
   "source": [
    "def long_words(n,str):\n",
    "    txt = str.split(\" \")\n",
    "    len_word = []\n",
    "    for i in txt:\n",
    "        if len(i) > n:\n",
    "            len_word.append(i)\n",
    "    return len_word\n",
    "print(long_words(3, \"The quick brown fox jumps over the lazy dog\"))     "
   ]
  },
  {
   "cell_type": "markdown",
   "metadata": {},
   "source": [
    "Task 2 : 2.1"
   ]
  },
  {
   "cell_type": "code",
   "execution_count": 63,
   "metadata": {},
   "outputs": [
    {
     "name": "stdout",
     "output_type": "stream",
     "text": [
      "[5, 5, 2, 5]\n"
     ]
    }
   ],
   "source": [
    "def len_words(lst):\n",
    "    word_len = []\n",
    "    for i in lst:\n",
    "        word_len.append(len(i))\n",
    "    print(word_len)\n",
    "    \n",
    "lst1 = [\"vinay\", \"works\", \"at\",\"IQVIA\"]\n",
    "len_words(lst1)"
   ]
  },
  {
   "cell_type": "markdown",
   "metadata": {},
   "source": [
    "Task 2 : 2.2"
   ]
  },
  {
   "cell_type": "code",
   "execution_count": 66,
   "metadata": {},
   "outputs": [
    {
     "data": {
      "text/plain": [
       "False"
      ]
     },
     "execution_count": 66,
     "metadata": {},
     "output_type": "execute_result"
    }
   ],
   "source": [
    "def is_vowel(ch):\n",
    "    lvowel = ['a','e','i','o','u']\n",
    "    uvowel = ['A','E','I','O','U']\n",
    "    if (ch in lvowel) or (ch in uvowel):\n",
    "        return True\n",
    "    else:\n",
    "        return False\n",
    "    \n",
    "is_vowel('t')"
   ]
  }
 ],
 "metadata": {
  "kernelspec": {
   "display_name": "Python 3",
   "language": "python",
   "name": "python3"
  },
  "language_info": {
   "codemirror_mode": {
    "name": "ipython",
    "version": 3
   },
   "file_extension": ".py",
   "mimetype": "text/x-python",
   "name": "python",
   "nbconvert_exporter": "python",
   "pygments_lexer": "ipython3",
   "version": "3.7.3"
  }
 },
 "nbformat": 4,
 "nbformat_minor": 2
}
